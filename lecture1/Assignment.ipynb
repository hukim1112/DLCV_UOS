{
 "cells": [
  {
   "cell_type": "code",
   "execution_count": null,
   "metadata": {},
   "outputs": [],
   "source": [
    "#github repository sync in google colab\n",
    "import os\n",
    "try:\n",
    "  # Colab only\n",
    "  !git clone https://github.com/hukim1112/DLCV_CLASS.git\n",
    "  os.chdir('/content/DLCV_CLASS/lecture1')      \n",
    "except Exception:\n",
    "  pass\n",
    "\n",
    "working_dir = os.getcwd()\n",
    "file_name = 'Assignment_hint.txt'\n",
    "\n",
    "file = os.path.join(working_dir, file_name)\n",
    "with open(file, 'r') as f:\n",
    "    hints = f.read().split('!')"
   ]
  },
  {
   "cell_type": "markdown",
   "metadata": {},
   "source": [
    "# 1. 역삼각형 출력하기"
   ]
  },
  {
   "cell_type": "markdown",
   "metadata": {},
   "source": [
    "높이가 4일때, '*'를 사용하여 다음의 역삼각형을 출력하는 함수를 생성하시오.\n",
    "\n",
    "     ******* \n",
    "      *****\n",
    "       ***\n",
    "        *"
   ]
  },
  {
   "cell_type": "code",
   "execution_count": null,
   "metadata": {},
   "outputs": [],
   "source": [
    "##### Type Your Code Here #####\n"
   ]
  },
  {
   "cell_type": "code",
   "execution_count": null,
   "metadata": {},
   "outputs": [],
   "source": [
    "##### Hint Here #####\n",
    "print (hints[0])"
   ]
  },
  {
   "cell_type": "markdown",
   "metadata": {},
   "source": [
    "# 2. 문자 빈도수 출력 -  모듈 사용(Counter)"
   ]
  },
  {
   "cell_type": "code",
   "execution_count": null,
   "metadata": {},
   "outputs": [],
   "source": [
    "string = \"OSNpqptnpsdnfogqSDFOTOSDsdofbbzabcSTUEOEIQZbnw\""
   ]
  },
  {
   "cell_type": "markdown",
   "metadata": {},
   "source": [
    "string에서 알파벳을 빈도순으로 출력하시오.(대소문자 구분 없음)"
   ]
  },
  {
   "cell_type": "code",
   "execution_count": null,
   "metadata": {},
   "outputs": [],
   "source": [
    "from collections import Counter"
   ]
  },
  {
   "cell_type": "code",
   "execution_count": null,
   "metadata": {},
   "outputs": [],
   "source": [
    "##### Type Your Code Here #####\n",
    "\n"
   ]
  },
  {
   "cell_type": "code",
   "execution_count": null,
   "metadata": {},
   "outputs": [],
   "source": [
    "##### Hint Here #####\n",
    "print (hints[1])"
   ]
  },
  {
   "cell_type": "markdown",
   "metadata": {},
   "source": [
    "# 3. 거듭제곱 하기"
   ]
  },
  {
   "cell_type": "code",
   "execution_count": null,
   "metadata": {},
   "outputs": [],
   "source": [
    "x = [1,2,3]\n",
    "y = [2,3,4]"
   ]
  },
  {
   "cell_type": "markdown",
   "metadata": {},
   "source": [
    "x의 원소를 밑으로하고, y의 원소를 지수로 하는 거듭제곱의 리스트를 생성하시오.\n",
    "[1^2, 2^3, 3^4]"
   ]
  },
  {
   "cell_type": "code",
   "execution_count": null,
   "metadata": {},
   "outputs": [],
   "source": [
    "##### Type Your Code Here #####\n",
    "\n"
   ]
  },
  {
   "cell_type": "code",
   "execution_count": null,
   "metadata": {},
   "outputs": [],
   "source": [
    "##### Hint Here #####\n",
    "print (hints[2])"
   ]
  },
  {
   "cell_type": "code",
   "execution_count": null,
   "metadata": {},
   "outputs": [],
   "source": []
  }
 ],
 "metadata": {
  "anaconda-cloud": {},
  "kernelspec": {
   "display_name": "p3tf",
   "language": "python",
   "name": "p3tf"
  },
  "language_info": {
   "codemirror_mode": {
    "name": "ipython",
    "version": 3
   },
   "file_extension": ".py",
   "mimetype": "text/x-python",
   "name": "python",
   "nbconvert_exporter": "python",
   "pygments_lexer": "ipython3",
   "version": "3.6.7"
  }
 },
 "nbformat": 4,
 "nbformat_minor": 1
}
