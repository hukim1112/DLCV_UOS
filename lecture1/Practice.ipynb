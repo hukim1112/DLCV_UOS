{
 "cells": [
  {
   "cell_type": "code",
   "execution_count": null,
   "metadata": {},
   "outputs": [],
   "source": [
    "#github repository sync in google colab\n",
    "import os\n",
    "try:\n",
    "  # Colab only\n",
    "  !git clone https://github.com/hukim1112/DLCV_CLASS.git\n",
    "  os.chdir('/content/DLCV_CLASS/lecture1')      \n",
    "except Exception:\n",
    "  pass\n",
    "\n",
    "\n",
    "working_dir = os.getcwd()\n",
    "file_name = 'Practice_hint.txt'\n",
    "\n",
    "file = os.path.join(working_dir, file_name)\n",
    "with open(file, 'r', encoding='utf8') as f:\n",
    "    hints = f.read().split('!')"
   ]
  },
  {
   "cell_type": "markdown",
   "metadata": {},
   "source": [
    "# 1. 문자 'A' 1000번 출력하기"
   ]
  },
  {
   "cell_type": "markdown",
   "metadata": {},
   "source": [
    "AAAAA.....A(1000번)을 출력하시오."
   ]
  },
  {
   "cell_type": "code",
   "execution_count": null,
   "metadata": {},
   "outputs": [],
   "source": [
    "##### Type Your Code Here #####\n",
    "\n",
    "print ()"
   ]
  },
  {
   "cell_type": "code",
   "execution_count": null,
   "metadata": {},
   "outputs": [],
   "source": [
    "##### Hint Here #####\n",
    "print (hints[0])"
   ]
  },
  {
   "cell_type": "markdown",
   "metadata": {},
   "source": [
    "# 2. 문자 개수 출력하기"
   ]
  },
  {
   "cell_type": "code",
   "execution_count": null,
   "metadata": {},
   "outputs": [],
   "source": [
    "string = 'AAAAAABBB BCCCCABC ABCCCCBBBBAA'"
   ]
  },
  {
   "cell_type": "markdown",
   "metadata": {},
   "source": [
    "string에서 A,B,C 각 문자의 개수를 출력하시오."
   ]
  },
  {
   "cell_type": "code",
   "execution_count": null,
   "metadata": {},
   "outputs": [],
   "source": [
    "##### 방법 1 반복/조건문 이용 #####\n",
    "num_A = 0\n",
    "num_B = 0\n",
    "num_C = 0\n",
    "\n",
    "  \n",
    "\n",
    "print (num_A)\n",
    "print (num_B)\n",
    "print (num_C)"
   ]
  },
  {
   "cell_type": "code",
   "execution_count": null,
   "metadata": {},
   "outputs": [],
   "source": [
    "##### 방법 2 count 함수 이용 #####\n",
    "\n",
    "\n",
    "\n",
    "print (num_A)\n",
    "print (num_B)\n",
    "print (num_C)"
   ]
  },
  {
   "cell_type": "code",
   "execution_count": null,
   "metadata": {},
   "outputs": [],
   "source": [
    "##### Hint Here #####\n",
    "print (hints[1])"
   ]
  },
  {
   "cell_type": "markdown",
   "metadata": {},
   "source": [
    "# 3. 서로 다른 알파벳의 개수"
   ]
  },
  {
   "cell_type": "code",
   "execution_count": null,
   "metadata": {},
   "outputs": [],
   "source": [
    "string = \"OSNpqptnpsdnfogqSDFOTOSDsdofbbzabcSTUEOEIQZbnw\""
   ]
  },
  {
   "cell_type": "markdown",
   "metadata": {},
   "source": [
    "string에서 서로 다른 알파벳의 개수를 출력하시오.(대소문자 구분 없음)"
   ]
  },
  {
   "cell_type": "code",
   "execution_count": null,
   "metadata": {},
   "outputs": [],
   "source": [
    "##### Type Your Code Here #####\n",
    "\n",
    "print ()"
   ]
  },
  {
   "cell_type": "code",
   "execution_count": null,
   "metadata": {},
   "outputs": [],
   "source": [
    "##### Hint Here #####\n",
    "print (hints[2])"
   ]
  },
  {
   "cell_type": "markdown",
   "metadata": {},
   "source": [
    "# 4. 리스트에서 원소 추가 및 제거하기"
   ]
  },
  {
   "cell_type": "code",
   "execution_count": null,
   "metadata": {},
   "outputs": [],
   "source": [
    "original_list = [1,2,3,4,5]"
   ]
  },
  {
   "cell_type": "markdown",
   "metadata": {},
   "source": [
    "added_six = [1,2,3,4,5,6] \n",
    "removed_one = [2,3,4,5]\n",
    "두 개의 리스트를 각각 생성하시오. (단, original_list를 변경하지 마시오.)"
   ]
  },
  {
   "cell_type": "code",
   "execution_count": null,
   "metadata": {},
   "outputs": [],
   "source": [
    "##### Type Your Code Here #####\n",
    "\n",
    "print (added_six)\n",
    "print (removed_one)\n",
    "print (original_list)"
   ]
  },
  {
   "cell_type": "code",
   "execution_count": null,
   "metadata": {},
   "outputs": [],
   "source": [
    "##### Hint Here #####\n",
    "print (hints[3])"
   ]
  },
  {
   "cell_type": "markdown",
   "metadata": {},
   "source": [
    "# 5. 리스트에서 원소별로 연산하기"
   ]
  },
  {
   "cell_type": "code",
   "execution_count": null,
   "metadata": {},
   "outputs": [],
   "source": [
    "L = [1,2,3,4,5,6,7,8,9,10]"
   ]
  },
  {
   "cell_type": "markdown",
   "metadata": {},
   "source": [
    "리스트 L에서 각 항목에 10을 더한 새로운 리스트 [11, 12, 13, 14, 15, 16, 17, 18, 19, 20]를 만드시오."
   ]
  },
  {
   "cell_type": "markdown",
   "metadata": {},
   "source": [
    "#### 방법 1) for 문 이용"
   ]
  },
  {
   "cell_type": "code",
   "execution_count": null,
   "metadata": {},
   "outputs": [],
   "source": [
    "##### Type Your Code Here #####\n",
    "new_list = list()\n",
    "\n",
    "\n",
    "print (new_list)\n",
    "print (L)"
   ]
  },
  {
   "cell_type": "markdown",
   "metadata": {},
   "source": [
    "#### 방법 2) map 함수 이용"
   ]
  },
  {
   "cell_type": "code",
   "execution_count": null,
   "metadata": {},
   "outputs": [],
   "source": [
    "##### Type Your Code Here #####\n"
   ]
  },
  {
   "cell_type": "code",
   "execution_count": null,
   "metadata": {},
   "outputs": [],
   "source": [
    "##### Hint Here #####\n",
    "print (hints[4])"
   ]
  },
  {
   "cell_type": "markdown",
   "metadata": {},
   "source": [
    "# 6. 함수 생성하기"
   ]
  },
  {
   "cell_type": "code",
   "execution_count": null,
   "metadata": {},
   "outputs": [],
   "source": [
    "passwords = ['999Ok', '1q2W3e4R','correct123!', 'ghsh@']"
   ]
  },
  {
   "cell_type": "markdown",
   "metadata": {},
   "source": [
    "주어진 passwords 리스트에서 다음 비밀번호 조건을 충족하는 것을 모두 출력하시오.\n",
    "- 6자리 이상일 것\n",
    "- 특수문자(@,!) 중 하나를 포함할 것"
   ]
  },
  {
   "cell_type": "code",
   "execution_count": null,
   "metadata": {},
   "outputs": [],
   "source": [
    "##### Type Your Code Here #####\n",
    "\n",
    "def check_password():\n",
    "    pass"
   ]
  },
  {
   "cell_type": "code",
   "execution_count": null,
   "metadata": {},
   "outputs": [],
   "source": [
    "##### Hint Here #####\n",
    "print (hints[5])"
   ]
  },
  {
   "cell_type": "code",
   "execution_count": null,
   "metadata": {},
   "outputs": [],
   "source": []
  }
 ],
 "metadata": {
  "anaconda-cloud": {},
  "kernelspec": {
   "display_name": "Python 3",
   "language": "python",
   "name": "python3"
  },
  "language_info": {
   "codemirror_mode": {
    "name": "ipython",
    "version": 3
   },
   "file_extension": ".py",
   "mimetype": "text/x-python",
   "name": "python",
   "nbconvert_exporter": "python",
   "pygments_lexer": "ipython3",
   "version": "3.6.7"
  }
 },
 "nbformat": 4,
 "nbformat_minor": 1
}
