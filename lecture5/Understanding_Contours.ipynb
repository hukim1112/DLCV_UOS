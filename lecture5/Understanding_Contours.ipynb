{
 "cells": [
  {
   "cell_type": "markdown",
   "metadata": {},
   "source": [
    "# Contours"
   ]
  },
  {
   "cell_type": "code",
   "execution_count": null,
   "metadata": {},
   "outputs": [],
   "source": [
    "#github repository sync in google colab\n",
    "import os\n",
    "try:\n",
    "  # Colab only\n",
    "  !git clone https://github.com/hukim1112/DLCV_CLASS.git\n",
    "  os.chdir('/content/DLCV_CLASS/lecture4')      \n",
    "except Exception:\n",
    "  pass"
   ]
  },
  {
   "cell_type": "code",
   "execution_count": 1,
   "metadata": {},
   "outputs": [],
   "source": [
    "import cv2\n",
    "import numpy as np\n",
    "from matplotlib import pyplot as plt"
   ]
  },
  {
   "cell_type": "code",
   "execution_count": 12,
   "metadata": {},
   "outputs": [
    {
     "data": {
      "image/png": "[encoded data removed]",
      "text/plain": [
       "<Figure size 432x288 with 1 Axes>"
      ]
     },
     "metadata": {
      "needs_background": "light"
     },
     "output_type": "display_data"
    }
   ],
   "source": [
    "# Let's load a simple image with 3 black squares\n",
    "image = cv2.imread('data/shapes_donut.jpg')\n",
    "imgray = cv2.cvtColor(image,cv2.COLOR_BGR2GRAY)\n",
    "plt.imshow(imgray, cmap='gray')\n",
    "plt.title('Input Image')\n",
    "#cv2.imwrite('input_image.jpg', image)\n",
    "plt.show()"
   ]
  },
  {
   "cell_type": "code",
   "execution_count": 23,
   "metadata": {},
   "outputs": [
    {
     "data": {
      "image/png": "[encoded data removed]",
      "text/plain": [
       "<Figure size 432x288 with 1 Axes>"
      ]
     },
     "metadata": {},
     "output_type": "display_data"
    }
   ],
   "source": [
    "#-*- coding:utf-8 -*-\n",
    "import cv2\n",
    "import numpy as np\n",
    "import random\n",
    "from matplotlib import pyplot as plt\n",
    "\n",
    "img = cv2.imread('data/shapes_donut.jpg')\n",
    "\n",
    "imgray = cv2.cvtColor(img,cv2.COLOR_BGR2GRAY)\n",
    "ret, thresh = cv2.threshold(imgray,125,255,0)\n",
    "\n",
    "image, contours, hierarchy = cv2.findContours(thresh, cv2.RETR_TREE,cv2.CHAIN_APPROX_SIMPLE)\n",
    "\n",
    "for i in range(len(contours)):\n",
    "    #각 Contour Line을 구분하기 위해서 Color Random생성\n",
    "    b = random.randrange(1,255)\n",
    "    g = random.randrange(1,255)\n",
    "    r = random.randrange(1,255)\n",
    "\n",
    "    cnt = contours[i]\n",
    "    img = cv2.drawContours(img, [cnt], -1,(b,g,r), 7)\n",
    "\n",
    "titles = ['Result']\n",
    "images = [img]\n",
    "\n",
    "for i in range(1):\n",
    "    plt.subplot(1,1,i+1), plt.title(titles[i]), plt.imshow(images[i])\n",
    "    plt.xticks([]), plt.yticks([])\n",
    "\n",
    "plt.show()\n",
    "plt.show()"
   ]
  },
  {
   "cell_type": "code",
   "execution_count": null,
   "metadata": {},
   "outputs": [],
   "source": []
  },
  {
   "cell_type": "code",
   "execution_count": null,
   "metadata": {
    "collapsed": true
   },
   "outputs": [],
   "source": []
  }
 ],
 "metadata": {
  "kernelspec": {
   "display_name": "p3tf",
   "language": "python",
   "name": "p3tf"
  },
  "language_info": {
   "codemirror_mode": {
    "name": "ipython",
    "version": 3
   },
   "file_extension": ".py",
   "mimetype": "text/x-python",
   "name": "python",
   "nbconvert_exporter": "python",
   "pygments_lexer": "ipython3",
   "version": "3.6.7"
  }
 },
 "nbformat": 4,
 "nbformat_minor": 1
}
