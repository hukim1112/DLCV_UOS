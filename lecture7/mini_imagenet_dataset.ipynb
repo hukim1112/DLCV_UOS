{
 "cells": [
  {
   "cell_type": "code",
   "execution_count": 1,
   "metadata": {},
   "outputs": [],
   "source": [
    "from __future__ import absolute_import, division, print_function, unicode_literals\n",
    "try:\n",
    "  # Colab only\n",
    "  %tensorflow_version 2.x\n",
    "except Exception:\n",
    "  pass\n",
    "\n",
    "import tensorflow as tf\n",
    "from tensorflow import keras\n",
    "from matplotlib import pyplot as plt\n",
    "import numpy as np\n",
    "import random"
   ]
  },
  {
   "cell_type": "code",
   "execution_count": 5,
   "metadata": {},
   "outputs": [],
   "source": [
    "#load mini-imagenet dataset file from www.youplayai.com\n",
    "train= np.load('train.npy')\n",
    "val = np.load('val.npy')\n",
    "#test = np.load('test.npy')\n",
    "train_label= np.load('train_label.npy')\n",
    "val_label = np.load('val_label.npy')\n",
    "#test_label = np.load('test_label.npy')"
   ]
  },
  {
   "cell_type": "code",
   "execution_count": 6,
   "metadata": {},
   "outputs": [
    {
     "name": "stdout",
     "output_type": "stream",
     "text": [
      "[50000, 84, 84, 3]\n"
     ]
    }
   ],
   "source": [
    "print([train.shape[0]*train.shape[1], train.shape[2], train.shape[3], train.shape[4]])"
   ]
  },
  {
   "cell_type": "code",
   "execution_count": 7,
   "metadata": {},
   "outputs": [],
   "source": [
    "train = np.reshape(train, [train.shape[0]*train.shape[1], train.shape[2], train.shape[3], train.shape[4]])\n",
    "train_label = np.reshape(train_label, [train_label.shape[0]*train_label.shape[1]])\n",
    "val = np.reshape(val, [val.shape[0]*val.shape[1], val.shape[2], val.shape[3], val.shape[4]])\n",
    "val_label = np.reshape(val_label, [val_label.shape[0]*val_label.shape[1]])\n",
    "#test = np.reshape(test, [test.shape[0]*test.shape[1], test.shape[2], test.shape[3], test.shape[4]])\n",
    "#test_label = np.reshape(test_label, [test_label.shape[0]*test_label.shape[1]])"
   ]
  },
  {
   "cell_type": "code",
   "execution_count": 8,
   "metadata": {},
   "outputs": [
    {
     "name": "stdout",
     "output_type": "stream",
     "text": [
      "(50000, 84, 84, 3) (50000,)\n",
      "(5000, 84, 84, 3) (5000,)\n",
      "(5000, 84, 84, 3) (5000,)\n"
     ]
    }
   ],
   "source": [
    "print(train.shape, train_label.shape)\n",
    "print(val.shape, val_label.shape)\n",
    "#print(test.shape, test_label.shape)"
   ]
  },
  {
   "cell_type": "code",
   "execution_count": 9,
   "metadata": {},
   "outputs": [],
   "source": [
    "randomize = np.arange(len(train))\n",
    "np.random.shuffle(randomize)\n",
    "train = train[randomize]\n",
    "train_label = train_label[randomize]"
   ]
  },
  {
   "cell_type": "markdown",
   "metadata": {},
   "source": [
    "# Datapipeline"
   ]
  },
  {
   "cell_type": "code",
   "execution_count": 10,
   "metadata": {},
   "outputs": [],
   "source": [
    "def format_example(image, label):\n",
    "    print(\"Format example called!\")\n",
    "    image = tf.cast(image, tf.float32)\n",
    "    image = image / 255.0\n",
    "    return image, label"
   ]
  },
  {
   "cell_type": "code",
   "execution_count": 11,
   "metadata": {},
   "outputs": [],
   "source": [
    "def augment_data(image, label):\n",
    "  print(\"Augment data called!\")\n",
    "  image = tf.image.random_flip_left_right(image)\n",
    "  image = tf.image.random_contrast(image, lower=0.0, upper=1.0)\n",
    "  # Add more augmentation of your choice\n",
    "  return image, label"
   ]
  },
  {
   "cell_type": "code",
   "execution_count": 12,
   "metadata": {},
   "outputs": [
    {
     "name": "stdout",
     "output_type": "stream",
     "text": [
      "Format example called!\n",
      "Format example called!\n"
     ]
    }
   ],
   "source": [
    "train_ds = tf.data.Dataset.from_tensor_slices((train, train_label)).map(format_example)\n",
    "val_ds = tf.data.Dataset.from_tensor_slices((val, val_label)).map(format_example)"
   ]
  },
  {
   "cell_type": "code",
   "execution_count": 13,
   "metadata": {},
   "outputs": [],
   "source": [
    "SHUFFLE_BUFFER_SIZE = 10000\n",
    "BATCH_SIZE = 32\n",
    "\n",
    "train_ds = train_ds.shuffle(SHUFFLE_BUFFER_SIZE).batch(BATCH_SIZE)\n",
    "val_ds = val_ds.batch(BATCH_SIZE)"
   ]
  },
  {
   "cell_type": "code",
   "execution_count": 14,
   "metadata": {},
   "outputs": [
    {
     "name": "stdout",
     "output_type": "stream",
     "text": [
      "(32, 84, 84, 3) tf.Tensor(\n",
      "[55 55 13 48 27 21 71 20 63 74 87 12 14 87 54  6 13 66 36 71 40  6 74 35\n",
      " 55 89 18 47 79 93 62 10], shape=(32,), dtype=int32)\n"
     ]
    }
   ],
   "source": [
    "for image, label in train_ds.take(1):\n",
    "    print(image.shape, label)"
   ]
  },
  {
   "cell_type": "code",
   "execution_count": null,
   "metadata": {},
   "outputs": [],
   "source": []
  }
 ],
 "metadata": {
  "kernelspec": {
   "display_name": "tf2.0",
   "language": "python",
   "name": "tf2.0"
  },
  "language_info": {
   "codemirror_mode": {
    "name": "ipython",
    "version": 3
   },
   "file_extension": ".py",
   "mimetype": "text/x-python",
   "name": "python",
   "nbconvert_exporter": "python",
   "pygments_lexer": "ipython3",
   "version": "3.6.8"
  }
 },
 "nbformat": 4,
 "nbformat_minor": 2
}
