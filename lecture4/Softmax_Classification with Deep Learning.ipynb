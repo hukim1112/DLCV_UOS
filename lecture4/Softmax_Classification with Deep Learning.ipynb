{
 "cells": [
  {
   "cell_type": "code",
   "execution_count": null,
   "metadata": {
    "executionInfo": {
     "elapsed": 2111,
     "status": "ok",
     "timestamp": 1612509009691,
     "user": {
      "displayName": "",
      "photoUrl": "",
      "userId": ""
     },
     "user_tz": -540
    },
    "id": "dbPOXqrpDVYO"
   },
   "outputs": [],
   "source": [
    "import tensorflow as tf\n",
    "import numpy as np\n",
    "from matplotlib import pyplot as plt"
   ]
  },
  {
   "cell_type": "markdown",
   "metadata": {
    "id": "c0584DTtDVYc"
   },
   "source": [
    "# 1. Create non-linear data distribution"
   ]
  },
  {
   "cell_type": "code",
   "execution_count": null,
   "metadata": {
    "executionInfo": {
     "elapsed": 2108,
     "status": "ok",
     "timestamp": 1612509009693,
     "user": {
      "displayName": "",
      "photoUrl": "",
      "userId": ""
     },
     "user_tz": -540
    },
    "id": "PeJaL5fpDVYg"
   },
   "outputs": [],
   "source": [
    "# 임의의 클래스 A와 클래스 B를 생성함.\n",
    "m = 200\n",
    "class_A = np.random.normal(0, 1, [m, 2])\n",
    "label_A = np.ones([m, 1])\n",
    "\n",
    "class_B_x = np.random.normal(0, 2, [m, 1])\n",
    "class_B_y = 0.5*class_B_x**2 - 3\n",
    "\n",
    "class_B = np.concatenate([class_B_x, class_B_y], axis = 1)\n",
    "label_B = np.zeros([m, 1])"
   ]
  },
  {
   "cell_type": "code",
   "execution_count": null,
   "metadata": {
    "colab": {
     "base_uri": "https://localhost:8080/"
    },
    "executionInfo": {
     "elapsed": 2102,
     "status": "ok",
     "timestamp": 1612509009693,
     "user": {
      "displayName": "",
      "photoUrl": "",
      "userId": ""
     },
     "user_tz": -540
    },
    "id": "qhBMwmKSEwtY",
    "outputId": "38b3882a-5085-4949-fd50-393785e8abbb"
   },
   "outputs": [],
   "source": [
    "#각 클래스의 데이터 shape은 다음과 같습니다. \n",
    "class_B.shape"
   ]
  },
  {
   "cell_type": "code",
   "execution_count": null,
   "metadata": {
    "colab": {
     "base_uri": "https://localhost:8080/"
    },
    "executionInfo": {
     "elapsed": 2095,
     "status": "ok",
     "timestamp": 1612509009694,
     "user": {
      "displayName": "",
      "photoUrl": "",
      "userId": ""
     },
     "user_tz": -540
    },
    "id": "tO4Ce0voG7DI",
    "outputId": "71004a17-4e31-4148-8b5f-4671cf7c1b88"
   },
   "outputs": [],
   "source": [
    "#레이블은 A가 1, B가 0입니다.\n",
    "print(label_A[:5])\n",
    "print(label_B[:5])"
   ]
  },
  {
   "cell_type": "code",
   "execution_count": null,
   "metadata": {
    "colab": {
     "base_uri": "https://localhost:8080/",
     "height": 295
    },
    "executionInfo": {
     "elapsed": 2677,
     "status": "ok",
     "timestamp": 1612509010284,
     "user": {
      "displayName": "",
      "photoUrl": "",
      "userId": ""
     },
     "user_tz": -540
    },
    "id": "yKluzYByD8Kq",
    "outputId": "f1c105a1-4a8d-425b-93e3-ec7f071f2901"
   },
   "outputs": [],
   "source": [
    "#데이터 분포를 볼까요?\n",
    "\n",
    "fig = plt.figure()\n",
    "ax1 = fig.add_subplot(111)\n",
    "\n",
    "ax1.set_title('nonlinear distribution')\n",
    "ax1.set_xlabel('x1')\n",
    "ax1.set_ylabel('x2')\n",
    "\n",
    "ax1.set_xlim([-4,4])\n",
    "ax1.set_ylim([-4,4])\n",
    "\n",
    "ax1.scatter(class_A[:,0], class_A[:,1], c='red')\n",
    "\n",
    "ax1.scatter(class_B[:,0], class_B[:,1])\n",
    "plt.show()"
   ]
  },
  {
   "cell_type": "code",
   "execution_count": null,
   "metadata": {
    "colab": {
     "base_uri": "https://localhost:8080/"
    },
    "executionInfo": {
     "elapsed": 2671,
     "status": "ok",
     "timestamp": 1612509010285,
     "user": {
      "displayName": "",
      "photoUrl": "",
      "userId": ""
     },
     "user_tz": -540
    },
    "id": "jumr5HBPD8HU",
    "outputId": "80068071-78a9-488a-eee7-1c5fc3339122"
   },
   "outputs": [],
   "source": [
    "#데이터를 통합해주겠습니다.\n",
    "dataset = np.concatenate([class_A, class_B])\n",
    "dataset.shape"
   ]
  },
  {
   "cell_type": "code",
   "execution_count": null,
   "metadata": {
    "colab": {
     "base_uri": "https://localhost:8080/"
    },
    "executionInfo": {
     "elapsed": 2668,
     "status": "ok",
     "timestamp": 1612509010286,
     "user": {
      "displayName": "",
      "photoUrl": "",
      "userId": ""
     },
     "user_tz": -540
    },
    "id": "G_PK34sjHD5y",
    "outputId": "473d4b99-0f0c-4279-a0bb-cb09fa7864eb"
   },
   "outputs": [],
   "source": [
    "#레이블도 통합해줍니다.\n",
    "label = np.concatenate([label_A, label_B])\n",
    "label.shape"
   ]
  },
  {
   "cell_type": "markdown",
   "metadata": {
    "id": "dvuAHDtEDVYq"
   },
   "source": [
    "# 2. Build your classification model with Neural Network"
   ]
  },
  {
   "cell_type": "code",
   "execution_count": null,
   "metadata": {
    "executionInfo": {
     "elapsed": 664,
     "status": "ok",
     "timestamp": 1612510229480,
     "user": {
      "displayName": "",
      "photoUrl": "",
      "userId": ""
     },
     "user_tz": -540
    },
    "id": "gsybUFnQDVYt"
   },
   "outputs": [],
   "source": [
    "from tensorflow.keras import layers\n",
    "\n",
    "def build_model():\n",
    "  model = tf.keras.Sequential([\n",
    "    layers.Dense(32, activation='relu', input_shape=[2]),\n",
    "    layers.Dense(16, activation='relu'),\n",
    "    layers.Dense(2, activation='relu'),\n",
    "    layers.Dense(2, activation=None),#output(linear classification)\n",
    "    layers.Softmax()\n",
    "  ])\n",
    "\n",
    "  optimizer = tf.keras.optimizers.Adam(0.001)\n",
    "\n",
    "  model.compile(optimizer=optimizer,\n",
    "              loss=tf.keras.losses.SparseCategoricalCrossentropy(),\n",
    "              metrics=['accuracy'])\n",
    "  return model"
   ]
  },
  {
   "cell_type": "code",
   "execution_count": null,
   "metadata": {
    "executionInfo": {
     "elapsed": 667,
     "status": "ok",
     "timestamp": 1612509065986,
     "user": {
      "displayName": "",
      "photoUrl": "",
      "userId": ""
     },
     "user_tz": -540
    },
    "id": "bXI4SJ6vDVY1"
   },
   "outputs": [],
   "source": [
    "model = build_model()"
   ]
  },
  {
   "cell_type": "code",
   "execution_count": null,
   "metadata": {
    "executionInfo": {
     "elapsed": 375,
     "status": "ok",
     "timestamp": 1612509065986,
     "user": {
      "displayName": "",
      "photoUrl": "",
      "userId": ""
     },
     "user_tz": -540
    },
    "id": "mIocg569Beka"
   },
   "outputs": [],
   "source": []
  },
  {
   "cell_type": "code",
   "execution_count": null,
   "metadata": {
    "colab": {
     "base_uri": "https://localhost:8080/"
    },
    "executionInfo": {
     "elapsed": 381,
     "status": "ok",
     "timestamp": 1612509066224,
     "user": {
      "displayName": "",
      "photoUrl": "",
      "userId": ""
     },
     "user_tz": -540
    },
    "id": "xNKqW9MfIb0D",
    "outputId": "0443f81e-c965-455b-cab6-578feaf7c0ca"
   },
   "outputs": [],
   "source": [
    "model.summary()"
   ]
  },
  {
   "cell_type": "markdown",
   "metadata": {
    "id": "nZiRW2HbDVY7"
   },
   "source": [
    "# 3. Train your model"
   ]
  },
  {
   "cell_type": "code",
   "execution_count": null,
   "metadata": {
    "colab": {
     "base_uri": "https://localhost:8080/"
    },
    "executionInfo": {
     "elapsed": 15138,
     "status": "ok",
     "timestamp": 1612509081853,
     "user": {
      "displayName": "",
      "photoUrl": "",
      "userId": ""
     },
     "user_tz": -540
    },
    "id": "FV7ESjdPDVY8",
    "outputId": "a2fc6f94-2bc9-4641-9e47-1848548ae3f8"
   },
   "outputs": [],
   "source": [
    "model.fit(dataset, label, epochs=500)"
   ]
  },
  {
   "cell_type": "code",
   "execution_count": null,
   "metadata": {
    "executionInfo": {
     "elapsed": 562,
     "status": "ok",
     "timestamp": 1612509083535,
     "user": {
      "displayName": "",
      "photoUrl": "",
      "userId": ""
     },
     "user_tz": -540
    },
    "id": "qE_WE7T7DVZF"
   },
   "outputs": [],
   "source": []
  },
  {
   "cell_type": "markdown",
   "metadata": {
    "id": "qeYvWgu4DVZO"
   },
   "source": [
    "# 4. Observe your new representation of dataset transformed by network"
   ]
  },
  {
   "cell_type": "code",
   "execution_count": null,
   "metadata": {
    "colab": {
     "base_uri": "https://localhost:8080/"
    },
    "executionInfo": {
     "elapsed": 616,
     "status": "ok",
     "timestamp": 1612509084090,
     "user": {
      "displayName": "",
      "photoUrl": "",
      "userId": ""
     },
     "user_tz": -540
    },
    "id": "1hifC67MDVZU",
    "outputId": "f016ff9e-f2e8-43e3-f043-605d99fd3487"
   },
   "outputs": [],
   "source": [
    "# 마지막 hidden layer에서 나오는 class A에 대한 새로운 데이터값들을 뽑아냅니다.\n",
    "last_hidden_output_model = tf.keras.Model(inputs=model.layers[0].input, outputs=model.layers[-2].output)\n",
    "new_rep_A = last_hidden_output_model.predict(class_A)\n",
    "new_rep_A.shape"
   ]
  },
  {
   "cell_type": "code",
   "execution_count": null,
   "metadata": {
    "colab": {
     "base_uri": "https://localhost:8080/"
    },
    "executionInfo": {
     "elapsed": 534,
     "status": "ok",
     "timestamp": 1612509084944,
     "user": {
      "displayName": "",
      "photoUrl": "",
      "userId": ""
     },
     "user_tz": -540
    },
    "id": "KCU206R3Hk_f",
    "outputId": "9379c823-07c8-4d40-cbde-6376c2e9dea4"
   },
   "outputs": [],
   "source": [
    "# 마지막 hidden layer에서 나오는 class B에 대한 새로운 데이터값들을 뽑아냅니다.\n",
    "new_rep_B = last_hidden_output_model.predict(class_B)\n",
    "new_rep_B.shape"
   ]
  },
  {
   "cell_type": "code",
   "execution_count": null,
   "metadata": {
    "colab": {
     "base_uri": "https://localhost:8080/",
     "height": 295
    },
    "executionInfo": {
     "elapsed": 690,
     "status": "ok",
     "timestamp": 1612509085709,
     "user": {
      "displayName": "",
      "photoUrl": "",
      "userId": ""
     },
     "user_tz": -540
    },
    "id": "yraCNpSvHy-6",
    "outputId": "e86ed900-ae73-4130-eac1-61d665134e40"
   },
   "outputs": [],
   "source": [
    "# 각각의 데이터들의 분포를 그려봅니다.\n",
    "\n",
    "fig = plt.figure()\n",
    "ax1 = fig.add_subplot(111)\n",
    "\n",
    "ax1.set_title('new_representation')\n",
    "ax1.set_xlabel('x1')\n",
    "ax1.set_ylabel('x2')\n",
    "\n",
    "ax1.scatter(new_rep_A[:,0], new_rep_A[:,1], c='red')\n",
    "\n",
    "ax1.scatter(new_rep_B[:,0], new_rep_B[:,1], c='blue')\n",
    "plt.show()"
   ]
  },
  {
   "cell_type": "code",
   "execution_count": null,
   "metadata": {
    "executionInfo": {
     "elapsed": 2816,
     "status": "aborted",
     "timestamp": 1612509010500,
     "user": {
      "displayName": "",
      "photoUrl": "",
      "userId": ""
     },
     "user_tz": -540
    },
    "id": "b2ObkEoNH1Hq"
   },
   "outputs": [],
   "source": []
  },
  {
   "cell_type": "code",
   "execution_count": null,
   "metadata": {
    "executionInfo": {
     "elapsed": 2806,
     "status": "aborted",
     "timestamp": 1612509010500,
     "user": {
      "displayName": "",
      "photoUrl": "",
      "userId": ""
     },
     "user_tz": -540
    },
    "id": "sAELfY3hIIUT"
   },
   "outputs": [],
   "source": []
  },
  {
   "cell_type": "code",
   "execution_count": null,
   "metadata": {
    "executionInfo": {
     "elapsed": 2803,
     "status": "aborted",
     "timestamp": 1612509010501,
     "user": {
      "displayName": "",
      "photoUrl": "",
      "userId": ""
     },
     "user_tz": -540
    },
    "id": "5sAQWj2BH4-3"
   },
   "outputs": [],
   "source": []
  },
  {
   "cell_type": "code",
   "execution_count": null,
   "metadata": {
    "executionInfo": {
     "elapsed": 2799,
     "status": "aborted",
     "timestamp": 1612509010502,
     "user": {
      "displayName": "",
      "photoUrl": "",
      "userId": ""
     },
     "user_tz": -540
    },
    "id": "ZoV1L9wiMqIK"
   },
   "outputs": [],
   "source": []
  }
 ],
 "metadata": {
  "colab": {
   "name": "Softmax_classification_with_DeepLearning",
   "provenance": [
    {
     "file_id": "https://github.com/hukim1112/DLCV_UOS/blob/master/lecture4/Classification_with_Deep_Learning.ipynb",
     "timestamp": 1612511271592
    }
   ]
  },
  "kernelspec": {
   "display_name": "tf",
   "language": "python",
   "name": "tf"
  },
  "language_info": {
   "codemirror_mode": {
    "name": "ipython",
    "version": 3
   },
   "file_extension": ".py",
   "mimetype": "text/x-python",
   "name": "python",
   "nbconvert_exporter": "python",
   "pygments_lexer": "ipython3",
   "version": "3.6.9"
  }
 },
 "nbformat": 4,
 "nbformat_minor": 1
}
