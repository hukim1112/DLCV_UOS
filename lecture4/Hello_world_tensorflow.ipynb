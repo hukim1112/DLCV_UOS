{
 "cells": [
  {
   "cell_type": "markdown",
   "metadata": {
    "colab_type": "text",
    "id": "ZIAkIlfmCe1B"
   },
   "source": [
    "# The Hello World of Deep Learning with Neural Networks"
   ]
  },
  {
   "cell_type": "markdown",
   "metadata": {
    "colab_type": "text",
    "id": "fA93WUy1zzWf"
   },
   "source": [
    "TensorFlow Hello World 코드에 오신 걸 환영합니다.\n",
    "\n",
    "우리는 TensorFlow keras API를 사용해 간단한 함수를 학습해볼 겁니다.\n",
    "\n",
    "첫 번째 인공신경망을 만들어보면서, 우리의 목표는 두 변수 간의 관계를 학습시키는 것입니다.\n",
    "\n",
    "```\n",
    "float hw_function(float x){\n",
    "    float y = (2 * x) - 1;\n",
    "    return y;\n",
    "}\n",
    "```\n",
    "\n",
    "어떻게 위의 x,y에 대한 함수입니다. 인공신경망은 어떻게 학습할까요? 바로 우리가 ML에서 배웠듯이 데이터를 사용하는 것입니다.\n",
    "X,Y 데이터를 입력하면서 두 변수의 관계를 학습시키도록 할 겁니다. "
   ]
  },
  {
   "cell_type": "markdown",
   "metadata": {
    "colab_type": "text",
    "id": "DzbtdRcZDO9B"
   },
   "source": [
    "## Imports\n",
    "numpy의 별칭이 np인 것처럼 tensorflow의 별칭 tf를 사용합니다."
   ]
  },
  {
   "cell_type": "code",
   "execution_count": null,
   "metadata": {
    "colab": {},
    "colab_type": "code",
    "id": "X9uIpOS2zx7k"
   },
   "outputs": [],
   "source": [
    "import tensorflow as tf\n",
    "import numpy as np\n",
    "from tensorflow import keras"
   ]
  },
  {
   "cell_type": "markdown",
   "metadata": {
    "colab_type": "text",
    "id": "wwJGmDrQ0EoB"
   },
   "source": [
    "## Define and Compile the Neural Network\n",
    "\n",
    "다음으로 우리는 가능한 가장 간단한 인공신경망을 만들겁니다. 인공신경망은 오직 1개의 레이어를 갖고, 그 레이어는 하나의 뉴런을 갖습니다.\n",
    "또한 입력의 shape은 1입니다."
   ]
  },
  {
   "cell_type": "code",
   "execution_count": null,
   "metadata": {
    "colab": {},
    "colab_type": "code",
    "id": "kQFAr_xo0M4T"
   },
   "outputs": [],
   "source": [
    "model = tf.keras.Sequential([keras.layers.Dense(units=1, input_shape=[1])])"
   ]
  },
  {
   "cell_type": "markdown",
   "metadata": {
    "colab_type": "text",
    "id": "KhjZjZ-c0Ok9"
   },
   "source": [
    "다음으로 우리는 우리의 인공신경망을 compile 해줄겁니다. 이때 텐서플로우는 모델의 구조를 결정 짓습니다.\n",
    "\n",
    "또한 우리는 2개의 함수를 특정해줍니다. 바로 loss와 optimizer입니다.\n",
    "\n",
    "(1) loss는 문제에 적합한 목적함수를 사용해주어야 합니다. 우리는 regression 문제이기 때문에 mean_squared_error를 사용합니다.\n",
    "loss의 입력으로 '목적함수의 이름' 또는 tf.keras.losses 안의 instance가 가능합니다.\n",
    "\n",
    "(2) optimizer는 stochastic gradient descent를 선택했습니다.\n",
    "loss의 입력으로 '최적화 알고리즘의 이름' 또는 tf.keras.optimizers 안의 instance가 가능합니다."
   ]
  },
  {
   "cell_type": "code",
   "execution_count": null,
   "metadata": {},
   "outputs": [],
   "source": [
    "#dir(tf.keras.losses)"
   ]
  },
  {
   "cell_type": "code",
   "execution_count": null,
   "metadata": {},
   "outputs": [],
   "source": [
    "dir(tf.keras.optimizers)"
   ]
  },
  {
   "cell_type": "code",
   "execution_count": null,
   "metadata": {
    "colab": {},
    "colab_type": "code",
    "id": "m8YQN1H41L-Y"
   },
   "outputs": [],
   "source": [
    "model.compile(optimizer='sgd', loss='mean_squared_error') \n",
    "# == model.compile(optimizer=tf.keras.optimizers.SGD(), loss=tf.keras.losses.mse)"
   ]
  },
  {
   "cell_type": "markdown",
   "metadata": {},
   "source": []
  },
  {
   "cell_type": "markdown",
   "metadata": {
    "colab_type": "text",
    "id": "5QyOUhFw1OUX"
   },
   "source": [
    "## Providing the Data"
   ]
  },
  {
   "cell_type": "markdown",
   "metadata": {},
   "source": [
    "TensorFlow는 numpy array를 데이터 입력형태로 허용합니다.\n",
    "\n",
    "numpy array를 사용해 y=2x-1의 관계를 갖는 데이터를 만들어줍니다."
   ]
  },
  {
   "cell_type": "code",
   "execution_count": null,
   "metadata": {
    "colab": {},
    "colab_type": "code",
    "id": "4Dxk4q-jzEy4"
   },
   "outputs": [],
   "source": [
    "xs = np.array([-1.0,  0.0, 1.0, 2.0, 3.0, 4.0], dtype=float)\n",
    "ys = np.array([-3.0, -1.0, 1.0, 3.0, 5.0, 7.0], dtype=float)"
   ]
  },
  {
   "cell_type": "markdown",
   "metadata": {
    "colab_type": "text",
    "id": "n_YcWRElnM_b"
   },
   "source": [
    "# Training the Neural Network"
   ]
  },
  {
   "cell_type": "markdown",
   "metadata": {
    "colab_type": "text",
    "id": "c-Jk4dG91dvD"
   },
   "source": [
    "이제 EPOCHS의 횟수만큼 데이터 전체를 모델에 입력하여 학습시킬 것입니다.\n",
    "위에서 정의해준 y = 2x - 1의 관계를 갖는 Xs와 Ys를 model.fit의 입력으로 줍니다."
   ]
  },
  {
   "cell_type": "code",
   "execution_count": null,
   "metadata": {
    "colab": {
     "base_uri": "https://localhost:8080/",
     "height": 1000
    },
    "colab_type": "code",
    "executionInfo": {
     "elapsed": 8172,
     "status": "ok",
     "timestamp": 1588239807536,
     "user": {
      "displayName": "Agni Iyer",
      "photoUrl": "https://lh5.googleusercontent.com/-t_0Yj_TZMvc/AAAAAAAAAAI/AAAAAAAABNo/ntatgaKFYUI/s64/photo.jpg",
      "userId": "12872450379171189898"
     },
     "user_tz": -330
    },
    "id": "lpRrl7WK10Pq",
    "outputId": "334ed2f1-9409-4016-d15c-265c0b67f4a5"
   },
   "outputs": [],
   "source": [
    "model.fit(xs, ys, epochs=500)"
   ]
  },
  {
   "cell_type": "markdown",
   "metadata": {
    "colab_type": "text",
    "id": "kaFIr71H2OZ-"
   },
   "source": [
    "학습이 잘 됐다면 모델은 x와 y 사이의 관계를 학습했을 것입니다.\n",
    "\n",
    "model.predict를 사용해 임의의 x에 대해 y를 예측할 수 있습니다.\n",
    "\n",
    "예를 들어 x = 10을 넣어볼까요? y는 무엇이 될까요."
   ]
  },
  {
   "cell_type": "code",
   "execution_count": null,
   "metadata": {
    "colab": {
     "base_uri": "https://localhost:8080/",
     "height": 34
    },
    "colab_type": "code",
    "executionInfo": {
     "elapsed": 8161,
     "status": "ok",
     "timestamp": 1588239807539,
     "user": {
      "displayName": "Agni Iyer",
      "photoUrl": "https://lh5.googleusercontent.com/-t_0Yj_TZMvc/AAAAAAAAAAI/AAAAAAAABNo/ntatgaKFYUI/s64/photo.jpg",
      "userId": "12872450379171189898"
     },
     "user_tz": -330
    },
    "id": "oxNzL4lS2Gui",
    "outputId": "1bbc2002-7912-4909-aad7-b6e652f34c8b"
   },
   "outputs": [],
   "source": [
    "print(model.predict([10.0]))"
   ]
  },
  {
   "cell_type": "code",
   "execution_count": null,
   "metadata": {},
   "outputs": [],
   "source": [
    "model.get_weights()"
   ]
  },
  {
   "cell_type": "code",
   "execution_count": null,
   "metadata": {},
   "outputs": [],
   "source": []
  }
 ],
 "metadata": {
  "colab": {
   "collapsed_sections": [],
   "name": "Course 1 - Part 2 - Lesson 2 - Notebook.ipynb",
   "provenance": []
  },
  "kernelspec": {
   "display_name": "Python 3",
   "language": "python",
   "name": "python3"
  },
  "language_info": {
   "codemirror_mode": {
    "name": "ipython",
    "version": 3
   },
   "file_extension": ".py",
   "mimetype": "text/x-python",
   "name": "python",
   "nbconvert_exporter": "python",
   "pygments_lexer": "ipython3",
   "version": "3.6.9"
  }
 },
 "nbformat": 4,
 "nbformat_minor": 1
}
