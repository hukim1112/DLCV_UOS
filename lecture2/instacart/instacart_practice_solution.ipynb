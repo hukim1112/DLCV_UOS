{
 "cells": [
  {
   "cell_type": "code",
   "execution_count": null,
   "metadata": {},
   "outputs": [],
   "source": [
    "#github repository sync in google colab\n",
    "import os\n",
    "try:\n",
    "  # Colab only\n",
    "  !git clone https://github.com/hukim1112/DLCV_CLASS.git\n",
    "  os.chdir('/content/DLCV_CLASS/lecture2/instacart')      \n",
    "except Exception:\n",
    "  pass"
   ]
  },
  {
   "cell_type": "code",
   "execution_count": null,
   "metadata": {},
   "outputs": [],
   "source": [
    "import pandas as pd\n",
    "import numpy as np\n",
    "import matplotlib.pyplot as plt\n",
    "import seaborn as sns\n",
    "%matplotlib inline"
   ]
  },
  {
   "cell_type": "code",
   "execution_count": null,
   "metadata": {},
   "outputs": [],
   "source": [
    "!unzip instacart_data.zip"
   ]
  },
  {
   "cell_type": "code",
   "execution_count": null,
   "metadata": {},
   "outputs": [],
   "source": [
    "orders = pd.read_csv(\"small_orders.csv\")\n",
    "\n",
    "order_products = pd.read_csv(\"small_order_products_prior.csv\")\n",
    "\n",
    "products = pd.read_csv(\"products.csv\")\n",
    "\n",
    "aisles = pd.read_csv(\"aisles.csv\")\n",
    "\n",
    "departments = pd.read_csv(\"departments.csv\")"
   ]
  },
  {
   "cell_type": "code",
   "execution_count": null,
   "metadata": {},
   "outputs": [],
   "source": [
    "orders.head()"
   ]
  },
  {
   "cell_type": "code",
   "execution_count": null,
   "metadata": {},
   "outputs": [],
   "source": [
    "order_products.head()"
   ]
  },
  {
   "cell_type": "markdown",
   "metadata": {},
   "source": [
    "### 총 주문 횟수 그래프"
   ]
  },
  {
   "cell_type": "code",
   "execution_count": null,
   "metadata": {
    "scrolled": true
   },
   "outputs": [],
   "source": [
    "# 유저 당 지금까지 총 몇 번 주문을 했는가?\n",
    "total_order_user = orders.groupby(\"user_id\")[\"order_number\"].aggregate(np.max).reset_index()"
   ]
  },
  {
   "cell_type": "code",
   "execution_count": null,
   "metadata": {
    "scrolled": true
   },
   "outputs": [],
   "source": [
    "# 최대 주문 횟수가 많은 순으로 정렬\n",
    "order_number_count = total_order_user.order_number.value_counts()"
   ]
  },
  {
   "cell_type": "code",
   "execution_count": null,
   "metadata": {
    "scrolled": true
   },
   "outputs": [],
   "source": [
    "plt.figure(figsize=(12,8))\n",
    "order_number_count.plot.bar()\n",
    "plt.ylabel('Number of Occurrences')\n",
    "plt.xlabel('Maximum order number')\n",
    "plt.xticks(rotation='horizontal')\n",
    "plt.show()"
   ]
  },
  {
   "cell_type": "code",
   "execution_count": null,
   "metadata": {},
   "outputs": [],
   "source": [
    "plt.figure(figsize=(12,8))\n",
    "sns.barplot(order_number_count.index, order_number_count.values)\n",
    "plt.ylabel('Number of Occurrences', fontsize=12)\n",
    "plt.xlabel('Maximum order number', fontsize=12)\n",
    "plt.show()"
   ]
  },
  {
   "cell_type": "markdown",
   "metadata": {},
   "source": [
    "4번만 주문한 사람이 가장 많음"
   ]
  },
  {
   "cell_type": "markdown",
   "metadata": {},
   "source": [
    "### 요일 별 주문 횟수 그래프"
   ]
  },
  {
   "cell_type": "code",
   "execution_count": null,
   "metadata": {},
   "outputs": [],
   "source": [
    "plt.figure(figsize=(12,8))\n",
    "order_per_day = orders.groupby('order_dow').size()\n",
    "order_per_day.plot.bar(color='gray')\n",
    "plt.ylabel('Count')\n",
    "plt.xlabel('Day of week')\n",
    "plt.xticks(rotation='horizontal')\n",
    "plt.title(\"Frequency of order by week day\")\n",
    "plt.show()"
   ]
  },
  {
   "cell_type": "code",
   "execution_count": null,
   "metadata": {},
   "outputs": [],
   "source": [
    "plt.figure(figsize=(12,8))\n",
    "sns.countplot(x=\"order_dow\", data=orders)\n",
    "plt.ylabel('Count')\n",
    "plt.xlabel('Day of week')\n",
    "plt.title(\"Frequency of order by week day\")\n",
    "plt.show()"
   ]
  },
  {
   "cell_type": "markdown",
   "metadata": {},
   "source": [
    "0과 1이 토요일, 일요일로 추정"
   ]
  },
  {
   "cell_type": "markdown",
   "metadata": {},
   "source": [
    "### 시간 별 주문 횟수 그래프"
   ]
  },
  {
   "cell_type": "code",
   "execution_count": null,
   "metadata": {},
   "outputs": [],
   "source": [
    "plt.figure(figsize=(12,8))\n",
    "order_per_day = orders.groupby('order_hour_of_day').size()\n",
    "order_per_day.plot.bar(color='green')\n",
    "plt.ylabel('Count')\n",
    "plt.xlabel('Hour of day')\n",
    "plt.xticks(rotation='horizontal')\n",
    "plt.title(\"Frequency of order by hour of day\")\n",
    "plt.show()"
   ]
  },
  {
   "cell_type": "code",
   "execution_count": null,
   "metadata": {},
   "outputs": [],
   "source": [
    "plt.figure(figsize=(12,8))\n",
    "sns.countplot(x=\"order_hour_of_day\", data=orders)\n",
    "plt.ylabel('Count')\n",
    "plt.xlabel('Hour of day')\n",
    "plt.title(\"Frequency of order by hour of day\")\n",
    "plt.show()"
   ]
  },
  {
   "cell_type": "markdown",
   "metadata": {},
   "source": [
    "### 이용 주기 그래프"
   ]
  },
  {
   "cell_type": "code",
   "execution_count": null,
   "metadata": {},
   "outputs": [],
   "source": [
    "plt.figure(figsize=(12,8))\n",
    "order_per_day = orders.groupby('days_since_prior_order').size()\n",
    "order_per_day.plot.bar(color='orange')\n",
    "plt.ylabel('Count')\n",
    "plt.xlabel('Days since prior order')\n",
    "plt.xticks(rotation='horizontal')\n",
    "plt.title(\"Frequency distribution by days since prior order\")\n",
    "plt.show()"
   ]
  },
  {
   "cell_type": "code",
   "execution_count": null,
   "metadata": {},
   "outputs": [],
   "source": [
    "plt.figure(figsize=(12,8))\n",
    "sns.countplot(x=\"days_since_prior_order\", data=orders, color='orange')\n",
    "plt.ylabel('Count')\n",
    "plt.xlabel('Days since prior order')\n",
    "plt.title(\"Frequency distribution by days since prior order\", fontsize=15)\n",
    "plt.show()"
   ]
  },
  {
   "cell_type": "markdown",
   "metadata": {},
   "source": [
    "### 가장 많이 주문된 item 상위 20개"
   ]
  },
  {
   "cell_type": "code",
   "execution_count": null,
   "metadata": {},
   "outputs": [],
   "source": [
    "order_products.head()"
   ]
  },
  {
   "cell_type": "code",
   "execution_count": null,
   "metadata": {},
   "outputs": [],
   "source": [
    "products.head()"
   ]
  },
  {
   "cell_type": "code",
   "execution_count": null,
   "metadata": {},
   "outputs": [],
   "source": [
    "# product_id 와 product_name mapping 위한 merge\n",
    "order_products = pd.merge(order_products, products, on='product_id', how='left')\n",
    "order_products"
   ]
  },
  {
   "cell_type": "code",
   "execution_count": null,
   "metadata": {
    "scrolled": true
   },
   "outputs": [],
   "source": [
    "popular_products = order_products['product_name'].value_counts().reset_index().head(20)\n",
    "popular_products = popular_products.rename(columns = {'product_name':'frequency_count','index':'product_name'})\n",
    "popular_products"
   ]
  },
  {
   "cell_type": "markdown",
   "metadata": {},
   "source": [
    "### 많이 주문된 aisle 상위 20개 그래프"
   ]
  },
  {
   "cell_type": "code",
   "execution_count": null,
   "metadata": {},
   "outputs": [],
   "source": [
    "order_products.head()"
   ]
  },
  {
   "cell_type": "code",
   "execution_count": null,
   "metadata": {},
   "outputs": [],
   "source": [
    "aisles.head()"
   ]
  },
  {
   "cell_type": "code",
   "execution_count": null,
   "metadata": {},
   "outputs": [],
   "source": [
    "order_products = pd.merge(order_products, aisles, on='aisle_id', how='left')\n",
    "order_products"
   ]
  },
  {
   "cell_type": "code",
   "execution_count": null,
   "metadata": {},
   "outputs": [],
   "source": [
    "num_aisle = order_products['aisle'].value_counts().head(20)\n",
    "num_aisle"
   ]
  },
  {
   "cell_type": "code",
   "execution_count": null,
   "metadata": {},
   "outputs": [],
   "source": [
    "plt.figure(figsize=(12,8))\n",
    "num_aisle.plot.bar(color='blue')\n",
    "plt.ylabel('Number of Occurrences')\n",
    "plt.xlabel('Aisle')\n",
    "plt.show()"
   ]
  },
  {
   "cell_type": "code",
   "execution_count": null,
   "metadata": {},
   "outputs": [],
   "source": [
    "plt.figure(figsize=(12,8))\n",
    "sns.barplot(num_aisle.index, num_aisle.values)\n",
    "plt.ylabel('Number of Occurrences')\n",
    "plt.xlabel('Aisle')\n",
    "plt.xticks(rotation='vertical')\n",
    "plt.show()"
   ]
  },
  {
   "cell_type": "markdown",
   "metadata": {},
   "source": [
    "### 주문된 deparment 분포(비율) 그래프"
   ]
  },
  {
   "cell_type": "code",
   "execution_count": null,
   "metadata": {},
   "outputs": [],
   "source": [
    "order_products.head()"
   ]
  },
  {
   "cell_type": "code",
   "execution_count": null,
   "metadata": {},
   "outputs": [],
   "source": [
    "departments.head()"
   ]
  },
  {
   "cell_type": "code",
   "execution_count": null,
   "metadata": {},
   "outputs": [],
   "source": [
    "order_products = pd.merge(order_products, departments, on='department_id', how='left')\n",
    "order_products"
   ]
  },
  {
   "cell_type": "code",
   "execution_count": null,
   "metadata": {},
   "outputs": [],
   "source": [
    "num_departments = order_products['department'].value_counts()\n",
    "num_departments_ratio = (num_departments.values / num_departments.values.sum()) * 100"
   ]
  },
  {
   "cell_type": "code",
   "execution_count": null,
   "metadata": {},
   "outputs": [],
   "source": [
    "plt.figure(figsize=(10,10))\n",
    "plt.pie(num_departments_ratio, labels=num_departments.index, autopct='%1.1f%%', startangle=200)\n",
    "plt.title(\"Departments distribution\", fontsize=15)\n",
    "plt.show()"
   ]
  },
  {
   "cell_type": "markdown",
   "metadata": {},
   "source": [
    "### department 와 reorder 관계(비율)"
   ]
  },
  {
   "cell_type": "code",
   "execution_count": null,
   "metadata": {},
   "outputs": [],
   "source": [
    "# department 별 reordered 의 평균\n",
    "department_reorder = order_products.groupby(['department'])['reordered'].aggregate('mean')"
   ]
  },
  {
   "cell_type": "code",
   "execution_count": null,
   "metadata": {},
   "outputs": [],
   "source": [
    "plt.figure(figsize=(12,8))\n",
    "sns.pointplot(department_reorder.index, department_reorder.values, color='red')\n",
    "plt.ylabel('Reorder ratio')\n",
    "plt.xlabel('Department')\n",
    "plt.title(\"Department wise reorder ratio\")\n",
    "plt.xticks(rotation='vertical')\n",
    "plt.show()"
   ]
  },
  {
   "cell_type": "markdown",
   "metadata": {},
   "source": [
    "dairy eggs의 경우 reorder의 비율이 높음 / personal care이 가장 낮음"
   ]
  },
  {
   "cell_type": "markdown",
   "metadata": {},
   "source": [
    "### 상품 담은 순서(add to cart)와 reorder 관계(비율)"
   ]
  },
  {
   "cell_type": "code",
   "execution_count": null,
   "metadata": {},
   "outputs": [],
   "source": [
    "order_products.head()"
   ]
  },
  {
   "cell_type": "code",
   "execution_count": null,
   "metadata": {},
   "outputs": [],
   "source": [
    "# 담은 순서 50번째까지만\n",
    "# 이유 : 더 커질수록 빈도수가 작아지므로 reorder rate의 비율이 민감하게 반응\n",
    "cart_reorder = order_products.groupby(['add_to_cart_order'])['reordered'].aggregate('mean')[:50]"
   ]
  },
  {
   "cell_type": "code",
   "execution_count": null,
   "metadata": {},
   "outputs": [],
   "source": [
    "plt.figure(figsize=(12,8))\n",
    "plt.plot(cart_reorder.index, cart_reorder.values, 'c-', marker='o')\n",
    "plt.ylabel('Reorder ratio')\n",
    "plt.xlabel('Add to cart order')\n",
    "plt.title(\"Add to cart order - Reorder ratio\")\n",
    "plt.show()"
   ]
  },
  {
   "cell_type": "markdown",
   "metadata": {},
   "source": [
    "처음 담긴 물건의 경우 reorder 비율 높다\n",
    "\n",
    "자주 사는 물건의 경우 먼저 담고, 그 다음에 새로운 제품 산다"
   ]
  },
  {
   "cell_type": "markdown",
   "metadata": {},
   "source": [
    "### Etc) Organic VS Non-Organic"
   ]
  },
  {
   "cell_type": "code",
   "execution_count": null,
   "metadata": {
    "scrolled": true
   },
   "outputs": [],
   "source": [
    "is_organic = order_products['product_name'].str.lower().str.contains('organic')"
   ]
  },
  {
   "cell_type": "code",
   "execution_count": null,
   "metadata": {
    "scrolled": true
   },
   "outputs": [],
   "source": [
    "total = is_organic.shape[0]\n",
    "num_organic = np.count_nonzero(is_organic) # is_organic.sum()\n",
    "num_non_organic = total - num_organic"
   ]
  },
  {
   "cell_type": "code",
   "execution_count": null,
   "metadata": {},
   "outputs": [],
   "source": [
    "new = pd.Series([num_non_organic / total, num_organic / total], index=['non organic', 'organic'])"
   ]
  },
  {
   "cell_type": "code",
   "execution_count": null,
   "metadata": {},
   "outputs": [],
   "source": [
    "new.plot(kind='bar', color=['red','blue'])\n",
    "plt.ylabel('Ratio')\n",
    "plt.xlabel('kind of food')\n",
    "plt.title(\"Oranic VS Non-Organic\")\n",
    "plt.xticks(rotation='horizontal')\n",
    "plt.show()"
   ]
  }
 ],
 "metadata": {
  "anaconda-cloud": {},
  "kernelspec": {
   "display_name": "p3tf",
   "language": "python",
   "name": "p3tf"
  },
  "language_info": {
   "codemirror_mode": {
    "name": "ipython",
    "version": 3
   },
   "file_extension": ".py",
   "mimetype": "text/x-python",
   "name": "python",
   "nbconvert_exporter": "python",
   "pygments_lexer": "ipython3",
   "version": "3.6.7"
  }
 },
 "nbformat": 4,
 "nbformat_minor": 1
}
