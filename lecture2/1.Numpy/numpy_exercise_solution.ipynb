{
 "cells": [
  {
   "cell_type": "markdown",
   "metadata": {},
   "source": [
    "#### 1. numpy 패키지 불러오기"
   ]
  },
  {
   "cell_type": "code",
   "execution_count": 130,
   "metadata": {},
   "outputs": [],
   "source": [
    "import numpy as np"
   ]
  },
  {
   "cell_type": "markdown",
   "metadata": {},
   "source": [
    "#### 2. 리스트로부터 배열 생성"
   ]
  },
  {
   "cell_type": "code",
   "execution_count": 131,
   "metadata": {},
   "outputs": [
    {
     "data": {
      "text/plain": [
       "array([1, 2, 3, 4])"
      ]
     },
     "execution_count": 131,
     "metadata": {},
     "output_type": "execute_result"
    }
   ],
   "source": [
    "my_list = [1,2,3,4]\n",
    "arr = np.array(my_list)\n",
    "arr"
   ]
  },
  {
   "cell_type": "markdown",
   "metadata": {},
   "source": [
    "#### 3. 크기가 10인 zero 벡터 생성(단, 다섯번째 값은 1) "
   ]
  },
  {
   "cell_type": "code",
   "execution_count": 132,
   "metadata": {},
   "outputs": [
    {
     "data": {
      "text/plain": [
       "array([ 0.,  0.,  0.,  0.,  1.,  0.,  0.,  0.,  0.,  0.])"
      ]
     },
     "execution_count": 132,
     "metadata": {},
     "output_type": "execute_result"
    }
   ],
   "source": [
    "Z = np.zeros(10)\n",
    "Z[4] = 1\n",
    "Z"
   ]
  },
  {
   "cell_type": "markdown",
   "metadata": {},
   "source": [
    "#### 4. 0-8까지의 정수로 이루어진 3X3 배열 생성"
   ]
  },
  {
   "cell_type": "code",
   "execution_count": 48,
   "metadata": {},
   "outputs": [
    {
     "data": {
      "text/plain": [
       "array([[0, 1, 2],\n",
       "       [3, 4, 5],\n",
       "       [6, 7, 8]])"
      ]
     },
     "execution_count": 48,
     "metadata": {},
     "output_type": "execute_result"
    }
   ],
   "source": [
    "np.arange(9).reshape(3,3)"
   ]
  },
  {
   "cell_type": "markdown",
   "metadata": {},
   "source": [
    "#### 5. 난수로 이루어진 5x5 배열을 만들고 최댓값, 최솟값 찾기"
   ]
  },
  {
   "cell_type": "code",
   "execution_count": 133,
   "metadata": {},
   "outputs": [
    {
     "name": "stdout",
     "output_type": "stream",
     "text": [
      "[[ 0.97117754  0.42853436  0.864607    0.27670701  0.89646286]\n",
      " [ 0.28523282  0.656535    0.90718939  0.93921203  0.74773416]\n",
      " [ 0.96661107  0.9301396   0.7671255   0.26635383  0.27816492]\n",
      " [ 0.48875151  0.77184793  0.6267793   0.90871721  0.25057369]\n",
      " [ 0.93588196  0.67410651  0.44109973  0.63224945  0.97292984]]\n",
      "0.250573690059\n",
      "0.972929836502\n"
     ]
    }
   ],
   "source": [
    "Z = np.random.random((5,5))\n",
    "print (Z)\n",
    "print (Z.min())\n",
    "print (Z.max())"
   ]
  },
  {
   "cell_type": "markdown",
   "metadata": {},
   "source": [
    "#### 5-1. 각 행별로 최솟값 찾기"
   ]
  },
  {
   "cell_type": "code",
   "execution_count": 30,
   "metadata": {},
   "outputs": [
    {
     "data": {
      "text/plain": [
       "array([ 0.71236082,  0.29759996,  0.02440725,  0.38502136,  0.05882211])"
      ]
     },
     "execution_count": 30,
     "metadata": {},
     "output_type": "execute_result"
    }
   ],
   "source": [
    "Z.min(axis=1)"
   ]
  },
  {
   "cell_type": "markdown",
   "metadata": {},
   "source": [
    "#### 6. 크기가 10인 random 벡터 오름차순 정렬"
   ]
  },
  {
   "cell_type": "code",
   "execution_count": 134,
   "metadata": {},
   "outputs": [
    {
     "name": "stdout",
     "output_type": "stream",
     "text": [
      "[ 0.5516139   0.84428432  0.64021728  0.49788761  0.44690892  0.29667577\n",
      "  0.15887132  0.0776808   0.69280222  0.56560731]\n",
      "[ 0.0776808   0.15887132  0.29667577  0.44690892  0.49788761  0.5516139\n",
      "  0.56560731  0.64021728  0.69280222  0.84428432]\n"
     ]
    }
   ],
   "source": [
    "Z = np.random.random(10)\n",
    "print (Z)\n",
    "Z.sort()\n",
    "print(Z)"
   ]
  },
  {
   "cell_type": "markdown",
   "metadata": {},
   "source": [
    "#### 7.  크기가 10인 random 벡터에서 값이 가장 클 때의 인덱스 찾기"
   ]
  },
  {
   "cell_type": "code",
   "execution_count": 39,
   "metadata": {},
   "outputs": [
    {
     "name": "stdout",
     "output_type": "stream",
     "text": [
      "[ 0.29387898  0.71943974  0.13222164  0.3415192   0.10763964  0.0352474\n",
      "  0.30641629  0.48917157  0.37425966  0.14205476]\n"
     ]
    },
    {
     "data": {
      "text/plain": [
       "1"
      ]
     },
     "execution_count": 39,
     "metadata": {},
     "output_type": "execute_result"
    }
   ],
   "source": [
    "Z = np.random.random(10)\n",
    "print (Z)\n",
    "Z.argmax()"
   ]
  },
  {
   "cell_type": "markdown",
   "metadata": {},
   "source": [
    "#### 7-1. 최댓값을 0으로 변경"
   ]
  },
  {
   "cell_type": "code",
   "execution_count": 40,
   "metadata": {},
   "outputs": [
    {
     "name": "stdout",
     "output_type": "stream",
     "text": [
      "[ 0.29387898  0.          0.13222164  0.3415192   0.10763964  0.0352474\n",
      "  0.30641629  0.48917157  0.37425966  0.14205476]\n"
     ]
    }
   ],
   "source": [
    "Z[Z.argmax()] = 0\n",
    "print (Z)"
   ]
  },
  {
   "cell_type": "markdown",
   "metadata": {},
   "source": [
    "#### 8. 행렬에서 각 행별 평균 빼기"
   ]
  },
  {
   "cell_type": "code",
   "execution_count": 45,
   "metadata": {},
   "outputs": [
    {
     "name": "stdout",
     "output_type": "stream",
     "text": [
      "[[ 0.12410958 -0.18539018  0.44967285 -0.38839225]\n",
      " [-0.17799189 -0.23013835  0.12240252  0.28572771]\n",
      " [-0.09626169 -0.17268119  0.20934429  0.05959859]]\n"
     ]
    }
   ],
   "source": [
    "X = np.random.rand(3, 4)\n",
    "Y = X - X.mean(axis=1, keepdims=True)\n",
    "print (Y)"
   ]
  },
  {
   "cell_type": "markdown",
   "metadata": {},
   "source": [
    "#### 9. [1,2,0,0,4,0]로부터 값이 0이 아닌 곳의 인덱스 찾기"
   ]
  },
  {
   "cell_type": "code",
   "execution_count": 136,
   "metadata": {},
   "outputs": [
    {
     "data": {
      "text/plain": [
       "(array([0, 1, 4]),)"
      ]
     },
     "execution_count": 136,
     "metadata": {},
     "output_type": "execute_result"
    }
   ],
   "source": [
    "arr = np.array([1,2,0,0,4,0])\n",
    "np.nonzero(arr)"
   ]
  },
  {
   "cell_type": "markdown",
   "metadata": {},
   "source": [
    "#### 10. [-1,3,-2,4,5,7,9,10]로부터 음수값은 0으로 변경하기"
   ]
  },
  {
   "cell_type": "code",
   "execution_count": 75,
   "metadata": {},
   "outputs": [
    {
     "data": {
      "text/plain": [
       "array([ 0,  3,  0,  4,  5,  7,  9, 10])"
      ]
     },
     "execution_count": 75,
     "metadata": {},
     "output_type": "execute_result"
    }
   ],
   "source": [
    "arr = np.array([-1,3,-2,4,5,7,9,10])\n",
    "np.where(arr < 0, 0, arr)"
   ]
  },
  {
   "cell_type": "markdown",
   "metadata": {},
   "source": [
    "### 10명의 키, 몸무게, 나이, 성별, 혈액형에 대한 데이터가 있다."
   ]
  },
  {
   "cell_type": "markdown",
   "metadata": {},
   "source": [
    "#### 1) 10명에 대한 키 배열을 생성하시오.(평균=170, 표준편차=10)"
   ]
  },
  {
   "cell_type": "code",
   "execution_count": 137,
   "metadata": {},
   "outputs": [
    {
     "data": {
      "text/plain": [
       "array([ 182.95650085,  157.78714449,  180.78250923,  179.70719986,\n",
       "        170.78838065,  149.11316896,  174.83330767,  182.41841159,\n",
       "        172.34709746,  168.91663254])"
      ]
     },
     "execution_count": 137,
     "metadata": {},
     "output_type": "execute_result"
    }
   ],
   "source": [
    "mu, sigma = 170, 10 # mean and standard deviation\n",
    "height = np.random.normal(mu, sigma, 10)\n",
    "height"
   ]
  },
  {
   "cell_type": "markdown",
   "metadata": {},
   "source": [
    "#### 2) 10명에 대한 몸무게 배열을 생성하시오. (0과 1사이 random number X 100)"
   ]
  },
  {
   "cell_type": "code",
   "execution_count": 138,
   "metadata": {},
   "outputs": [
    {
     "data": {
      "text/plain": [
       "array([ 20.33529746,  72.98033292,  92.9248777 ,  36.36475211,\n",
       "        90.62050884,  45.4172702 ,  46.331283  ,  37.30471429,\n",
       "        75.40871258,  89.82582753])"
      ]
     },
     "execution_count": 138,
     "metadata": {},
     "output_type": "execute_result"
    }
   ],
   "source": [
    "weight = np.random.rand(10) * 100\n",
    "weight"
   ]
  },
  {
   "cell_type": "markdown",
   "metadata": {},
   "source": [
    "#### 3) 10명에 대한 나이 배열을 생성하시오. [10, 80) 정수"
   ]
  },
  {
   "cell_type": "code",
   "execution_count": 139,
   "metadata": {},
   "outputs": [
    {
     "data": {
      "text/plain": [
       "array([67, 35, 47, 56, 52, 49, 39, 16, 56, 21])"
      ]
     },
     "execution_count": 139,
     "metadata": {},
     "output_type": "execute_result"
    }
   ],
   "source": [
    "age = np.random.randint(10,80,size=10)\n",
    "age"
   ]
  },
  {
   "cell_type": "markdown",
   "metadata": {},
   "source": [
    "#### 4) 10명에 대한 성별 배열을 생성하시오. (0 : 남자, 1 : 여자)"
   ]
  },
  {
   "cell_type": "code",
   "execution_count": 140,
   "metadata": {},
   "outputs": [
    {
     "data": {
      "text/plain": [
       "array([0, 0, 1, 1, 1, 0, 0, 1, 1, 1])"
      ]
     },
     "execution_count": 140,
     "metadata": {},
     "output_type": "execute_result"
    }
   ],
   "source": [
    "sex = np.random.randint(0,2,size=10)\n",
    "sex"
   ]
  },
  {
   "cell_type": "markdown",
   "metadata": {},
   "source": [
    "#### 5) 10명에 대한 혈액형 배열을 생성하시오. (0 : 'A', 1 : 'B', 2 : 'O', 3 : 'AB')"
   ]
  },
  {
   "cell_type": "code",
   "execution_count": 141,
   "metadata": {},
   "outputs": [
    {
     "data": {
      "text/plain": [
       "array([3, 3, 1, 0, 2, 3, 2, 1, 0, 2])"
      ]
     },
     "execution_count": 141,
     "metadata": {},
     "output_type": "execute_result"
    }
   ],
   "source": [
    "blood = np.random.choice([0,1,2,3], size=10)\n",
    "blood"
   ]
  },
  {
   "cell_type": "markdown",
   "metadata": {},
   "source": [
    "#### 6) 10행 5행의 배열로 합치시오. "
   ]
  },
  {
   "cell_type": "code",
   "execution_count": 142,
   "metadata": {},
   "outputs": [
    {
     "data": {
      "text/plain": [
       "array([[ 182.95650085,   20.33529746,   67.        ,    0.        ,    3.        ],\n",
       "       [ 157.78714449,   72.98033292,   35.        ,    0.        ,    3.        ],\n",
       "       [ 180.78250923,   92.9248777 ,   47.        ,    1.        ,    1.        ],\n",
       "       [ 179.70719986,   36.36475211,   56.        ,    1.        ,    0.        ],\n",
       "       [ 170.78838065,   90.62050884,   52.        ,    1.        ,    2.        ],\n",
       "       [ 149.11316896,   45.4172702 ,   49.        ,    0.        ,    3.        ],\n",
       "       [ 174.83330767,   46.331283  ,   39.        ,    0.        ,    2.        ],\n",
       "       [ 182.41841159,   37.30471429,   16.        ,    1.        ,    1.        ],\n",
       "       [ 172.34709746,   75.40871258,   56.        ,    1.        ,    0.        ],\n",
       "       [ 168.91663254,   89.82582753,   21.        ,    1.        ,    2.        ]])"
      ]
     },
     "execution_count": 142,
     "metadata": {},
     "output_type": "execute_result"
    }
   ],
   "source": [
    "info_arr = np.column_stack((height, weight, age, sex, blood))\n",
    "info_arr"
   ]
  },
  {
   "cell_type": "markdown",
   "metadata": {},
   "source": [
    "#### 7) 여성의 비율은?"
   ]
  },
  {
   "cell_type": "code",
   "execution_count": 143,
   "metadata": {},
   "outputs": [
    {
     "name": "stdout",
     "output_type": "stream",
     "text": [
      "ratio of female : 60.0\n"
     ]
    }
   ],
   "source": [
    "female = info_arr[:,3].sum()\n",
    "total = len(info_arr[:,3])\n",
    "print ('ratio of female :', (female/total) * 100)"
   ]
  },
  {
   "cell_type": "markdown",
   "metadata": {},
   "source": [
    "#### 8) 여자이면서 B형인 사람의 수는?"
   ]
  },
  {
   "cell_type": "code",
   "execution_count": 144,
   "metadata": {},
   "outputs": [
    {
     "data": {
      "text/plain": [
       "2"
      ]
     },
     "execution_count": 144,
     "metadata": {},
     "output_type": "execute_result"
    }
   ],
   "source": [
    "((info_arr[:,3] == 1) & (info_arr[:,4] == 2)).sum()"
   ]
  },
  {
   "cell_type": "markdown",
   "metadata": {},
   "source": [
    "#### 9) 여자들의 키, 몸무게, 나이를 출력하시오."
   ]
  },
  {
   "cell_type": "code",
   "execution_count": 145,
   "metadata": {},
   "outputs": [
    {
     "data": {
      "text/plain": [
       "array([[ 180.78250923,   92.9248777 ,   47.        ],\n",
       "       [ 179.70719986,   36.36475211,   56.        ],\n",
       "       [ 170.78838065,   90.62050884,   52.        ],\n",
       "       [ 182.41841159,   37.30471429,   16.        ],\n",
       "       [ 172.34709746,   75.40871258,   56.        ],\n",
       "       [ 168.91663254,   89.82582753,   21.        ]])"
      ]
     },
     "execution_count": 145,
     "metadata": {},
     "output_type": "execute_result"
    }
   ],
   "source": [
    "info_arr[info_arr[:, 3] == 1, :3]"
   ]
  },
  {
   "cell_type": "code",
   "execution_count": 146,
   "metadata": {},
   "outputs": [
    {
     "data": {
      "text/plain": [
       "array([[ 180.78250923,   47.        ,    1.        ],\n",
       "       [ 179.70719986,   56.        ,    0.        ],\n",
       "       [ 170.78838065,   52.        ,    2.        ],\n",
       "       [ 182.41841159,   16.        ,    1.        ],\n",
       "       [ 172.34709746,   56.        ,    0.        ],\n",
       "       [ 168.91663254,   21.        ,    2.        ]])"
      ]
     },
     "execution_count": 146,
     "metadata": {},
     "output_type": "execute_result"
    }
   ],
   "source": [
    "## 참고 : 만약에 키, 나이, 혈액형만 보고 싶다면?\n",
    "info_arr[info_arr[:, 3] == 1][:, [0,2,4]] "
   ]
  },
  {
   "cell_type": "markdown",
   "metadata": {},
   "source": [
    "#### 10) 남자들의 키의 평균은?"
   ]
  },
  {
   "cell_type": "code",
   "execution_count": 147,
   "metadata": {},
   "outputs": [
    {
     "data": {
      "text/plain": [
       "166.17253049221566"
      ]
     },
     "execution_count": 147,
     "metadata": {},
     "output_type": "execute_result"
    }
   ],
   "source": [
    "info_arr[info_arr[:, 3] == 0, 0].mean()"
   ]
  },
  {
   "cell_type": "markdown",
   "metadata": {},
   "source": [
    "#### 11) 10명에 BMI에 대한 배열을 생성하시오. (BMI = weight[kg]/height[m]^2)"
   ]
  },
  {
   "cell_type": "code",
   "execution_count": 148,
   "metadata": {},
   "outputs": [],
   "source": [
    "height_m_sqr = (info_arr[:,0] * 0.01) ** 2\n",
    "weight = info_arr[:,1]\n",
    "BMI = weight / height_m_sqr"
   ]
  },
  {
   "cell_type": "code",
   "execution_count": 149,
   "metadata": {},
   "outputs": [
    {
     "data": {
      "text/plain": [
       "array([  6.07511969,  29.31315786,  28.43277041,  11.26029263,\n",
       "        31.06775381,  20.42626809,  15.15744422,  11.21053602,\n",
       "        25.38712836,  31.48157104])"
      ]
     },
     "execution_count": 149,
     "metadata": {},
     "output_type": "execute_result"
    }
   ],
   "source": [
    "BMI"
   ]
  },
  {
   "cell_type": "markdown",
   "metadata": {},
   "source": [
    "Underweight: BMI is less than 18.5\n",
    "\n",
    "Normal weight: BMI is 18.5 to 24.9\n",
    "\n",
    "Overweight: BMI is 25 to 29.9\n",
    "\n",
    "Obese: BMI is 30 or more"
   ]
  },
  {
   "cell_type": "code",
   "execution_count": null,
   "metadata": {},
   "outputs": [],
   "source": []
  }
 ],
 "metadata": {
  "anaconda-cloud": {},
  "kernelspec": {
   "display_name": "Python [conda root]",
   "language": "python",
   "name": "conda-root-py"
  },
  "language_info": {
   "codemirror_mode": {
    "name": "ipython",
    "version": 3
   },
   "file_extension": ".py",
   "mimetype": "text/x-python",
   "name": "python",
   "nbconvert_exporter": "python",
   "pygments_lexer": "ipython3",
   "version": "3.5.2"
  }
 },
 "nbformat": 4,
 "nbformat_minor": 1
}
